{
  "nbformat": 4,
  "nbformat_minor": 0,
  "metadata": {
    "colab": {
      "provenance": []
    },
    "kernelspec": {
      "name": "python3",
      "display_name": "Python 3"
    },
    "language_info": {
      "name": "python"
    }
  },
  "cells": [
    {
      "cell_type": "markdown",
      "source": [
        "# Decision Tree"
      ],
      "metadata": {
        "id": "azBBxavBqP-E"
      }
    },
    {
      "cell_type": "markdown",
      "source": [
        "\n",
        "\n",
        "### 1. What is a Decision Tree, and how does it work?\n",
        "A Decision Tree is a supervised machine learning algorithm used for classification and regression. It splits the dataset into subsets based on the value of input features. At each internal node, the algorithm selects a feature that best separates the data. Leaves represent the final output.\n",
        "\n",
        "---\n",
        "\n",
        "### 2. What are impurity measures in Decision Trees?\n",
        "Impurity measures quantify how mixed the target classes are at a node. Common impurity measures:\n",
        "- **Gini Impurity**\n",
        "- **Entropy**\n",
        "\n",
        "Lower impurity means better classification.\n",
        "\n",
        "---\n",
        "\n",
        "### 3. What is the mathematical formula for Gini Impurity?\n",
        "\\[\n",
        "Gini = 1 - \\sum_{i=1}^{C} p_i^2\n",
        "\\]\n",
        "Where:\n",
        "- \\( p_i \\) = Probability of class *i*\n",
        "- *C* = Number of classes\n",
        "\n",
        "---\n",
        "\n",
        "### 4. What is the mathematical formula for Entropy?\n",
        "\\[\n",
        "Entropy = -\\sum_{i=1}^{C} p_i \\cdot \\log_2(p_i)\n",
        "\\]\n",
        "Where:\n",
        "- \\( p_i \\) = Probability of class *i*\n",
        "- *C* = Number of classes\n",
        "\n",
        "---\n",
        "\n",
        "### 5. What is Information Gain, and how is it used in Decision Trees?\n",
        "Information Gain (IG) measures the reduction in impurity after a dataset is split on a feature.\n",
        "\n",
        "\\[\n",
        "IG = Entropy_{parent} - \\sum_{i} \\frac{n_i}{n} \\cdot Entropy_{child_i}\n",
        "\\]\n",
        "\n",
        "Decision Trees use IG to select the best feature at each split.\n",
        "\n",
        "---\n",
        "\n",
        "### 6. What is the difference between Gini Impurity and Entropy?\n",
        "- **Gini** is simpler and faster to compute.\n",
        "- **Entropy** uses logarithms and is more theoretically aligned with information theory.\n",
        "- Both perform similarly in practice.\n",
        "\n",
        "---\n",
        "\n",
        "### 7. What is the mathematical explanation behind Decision Trees?\n",
        "A Decision Tree recursively partitions the input space:\n",
        "- Choose the best feature \\( f \\) to split using a criterion (e.g., Gini or Entropy).\n",
        "- Compute impurity before and after the split.\n",
        "- Maximize Information Gain (or minimize impurity).\n",
        "- Repeat for child nodes until stopping conditions are met (e.g., pure node or max depth).\n",
        "\n",
        "---\n",
        "\n",
        "### 8. What is Pre-Pruning in Decision Trees?\n",
        "Pre-Pruning (early stopping) halts the tree growth early:\n",
        "- Set limits like max depth, min samples per leaf, or min impurity decrease.\n",
        "- Avoids overfitting by preventing the tree from growing too complex.\n",
        "\n",
        "---\n",
        "\n",
        "### 9. What is Post-Pruning in Decision Trees?\n",
        "Post-Pruning removes branches from a fully grown tree:\n",
        "- Train the full tree first.\n",
        "- Prune branches that have little importance (based on validation accuracy or complexity).\n",
        "- Helps reduce overfitting after training.\n",
        "\n",
        "---\n",
        "\n",
        "### 10. What is the difference between Pre-Pruning and Post-Pruning?\n",
        "| Feature         | Pre-Pruning                  | Post-Pruning                   |\n",
        "|----------------|------------------------------|--------------------------------|\n",
        "| Timing         | During training               | After full training            |\n",
        "| Control        | Stops tree from growing too big| Removes less useful branches   |\n",
        "| Overfitting    | Avoided early                 | Reduced afterward              |\n",
        "| Performance    | May miss useful splits        | More accurate with validation  |\n",
        "\n",
        "---\n",
        "\n",
        "### 11. What is a Decision Tree Regressor?\n",
        "A Decision Tree Regressor predicts continuous values:\n",
        "- Splits data to minimize variance (not classification impurity).\n",
        "- Leaf nodes contain mean of target values.\n",
        "\n",
        "---\n",
        "\n",
        "### 12. What are the advantages and disadvantages of Decision Trees?\n",
        "\n",
        "**Advantages:**\n",
        "- Easy to interpret and visualize\n",
        "- Handles numerical and categorical data\n",
        "- No need for feature scaling\n",
        "\n",
        "**Disadvantages:**\n",
        "- Prone to overfitting\n",
        "- Unstable to small data changes\n",
        "- Biased towards features with more levels\n",
        "\n",
        "---\n",
        "\n",
        "### 13. How does a Decision Tree handle missing values?\n",
        "- **Skipping**: Ignore missing values during split evaluation.\n",
        "- **Imputation**: Fill missing values with mean/mode.\n",
        "- **Surrogate splits**: Use backup features when the main splitting feature is missing.\n",
        "\n",
        "---\n",
        "\n",
        "### 14. How does a Decision Tree handle categorical features?\n",
        "- It treats each category as a separate split.\n",
        "- Can create binary splits (e.g., A vs. not A) or multi-way splits.\n",
        "- Label encoding or one-hot encoding is often used in implementation.\n",
        "\n",
        "---\n",
        "\n",
        "### 15. What are some real-world applications of Decision Trees?\n",
        "- **Medical Diagnosis** (e.g., predicting disease risk)\n",
        "- **Credit Scoring** (loan approval)\n",
        "- **Marketing** (customer segmentation)\n",
        "- **Fraud Detection**\n",
        "- **Recommendation Systems**\n",
        "\n",
        "---\n"
      ],
      "metadata": {
        "id": "PunE_mF8qUv6"
      }
    },
    {
      "cell_type": "code",
      "source": [
        "# 16. Train a Decision Tree Classifier on the Iris dataset and print the model accuracy\n",
        "from sklearn.datasets import load_iris\n",
        "from sklearn.tree import DecisionTreeClassifier\n",
        "from sklearn.model_selection import train_test_split\n",
        "from sklearn.metrics import accuracy_score\n",
        "\n",
        "iris = load_iris()\n",
        "X_train, X_test, y_train, y_test = train_test_split(iris.data, iris.target, test_size=0.3, random_state=42)\n",
        "\n",
        "clf = DecisionTreeClassifier()\n",
        "clf.fit(X_train, y_train)\n",
        "y_pred = clf.predict(X_test)\n",
        "\n",
        "print(\"Accuracy:\", accuracy_score(y_test, y_pred))\n"
      ],
      "metadata": {
        "colab": {
          "base_uri": "https://localhost:8080/"
        },
        "id": "lkFKQu_Frn78",
        "outputId": "8b07ac53-66d5-402f-a905-722bddf556e8"
      },
      "execution_count": 1,
      "outputs": [
        {
          "output_type": "stream",
          "name": "stdout",
          "text": [
            "Accuracy: 1.0\n"
          ]
        }
      ]
    },
    {
      "cell_type": "code",
      "source": [
        "# 17. Train a Decision Tree Classifier using Gini Impurity and print feature importances\n",
        "clf_gini = DecisionTreeClassifier(criterion='gini')\n",
        "clf_gini.fit(X_train, y_train)\n",
        "\n",
        "print(\"Feature Importances (Gini):\", clf_gini.feature_importances_)\n"
      ],
      "metadata": {
        "colab": {
          "base_uri": "https://localhost:8080/"
        },
        "id": "zZ6YsE39rqNM",
        "outputId": "2eab6af1-0671-4bd6-b440-e37c690a5968"
      },
      "execution_count": 2,
      "outputs": [
        {
          "output_type": "stream",
          "name": "stdout",
          "text": [
            "Feature Importances (Gini): [0.03822004 0.         0.87415353 0.08762643]\n"
          ]
        }
      ]
    },
    {
      "cell_type": "code",
      "source": [
        "# 18. Train a Decision Tree Classifier using Entropy and print model accuracy\n",
        "clf_entropy = DecisionTreeClassifier(criterion='entropy')\n",
        "clf_entropy.fit(X_train, y_train)\n",
        "y_pred_entropy = clf_entropy.predict(X_test)\n",
        "\n",
        "print(\"Accuracy (Entropy):\", accuracy_score(y_test, y_pred_entropy))\n"
      ],
      "metadata": {
        "colab": {
          "base_uri": "https://localhost:8080/"
        },
        "id": "HitwFJb-rxBY",
        "outputId": "af2a2abc-4b13-4f2f-dee7-cf177aff6aae"
      },
      "execution_count": 3,
      "outputs": [
        {
          "output_type": "stream",
          "name": "stdout",
          "text": [
            "Accuracy (Entropy): 0.9777777777777777\n"
          ]
        }
      ]
    },
    {
      "cell_type": "code",
      "source": [
        "# 19. Train a Decision Tree Regressor on the housing dataset and evaluate with MSE\n",
        "from sklearn.datasets import fetch_california_housing\n",
        "from sklearn.tree import DecisionTreeRegressor\n",
        "from sklearn.metrics import mean_squared_error\n",
        "\n",
        "housing = fetch_california_housing()\n",
        "Xh_train, Xh_test, yh_train, yh_test = train_test_split(housing.data, housing.target, test_size=0.3, random_state=42)\n",
        "\n",
        "regressor = DecisionTreeRegressor()\n",
        "regressor.fit(Xh_train, yh_train)\n",
        "yh_pred = regressor.predict(Xh_test)\n",
        "\n",
        "print(\"MSE:\", mean_squared_error(yh_test, yh_pred))\n"
      ],
      "metadata": {
        "colab": {
          "base_uri": "https://localhost:8080/"
        },
        "id": "yxcTbL--rxH9",
        "outputId": "49f73d5d-c1b5-4016-c85c-294093dc1ba5"
      },
      "execution_count": 4,
      "outputs": [
        {
          "output_type": "stream",
          "name": "stdout",
          "text": [
            "MSE: 0.5237738075041504\n"
          ]
        }
      ]
    },
    {
      "cell_type": "code",
      "source": [
        "# 20. Train a Decision Tree Classifier and visualize the tree using graphviz\n",
        "from sklearn.tree import export_graphviz\n",
        "import graphviz\n",
        "\n",
        "dot_data = export_graphviz(clf, out_file=None, feature_names=iris.feature_names,\n",
        "                           class_names=iris.target_names, filled=True, rounded=True, special_characters=True)\n",
        "graph = graphviz.Source(dot_data)\n",
        "graph.render(\"iris_tree\")\n",
        "graph.view()\n"
      ],
      "metadata": {
        "colab": {
          "base_uri": "https://localhost:8080/",
          "height": 35
        },
        "id": "KEgS4d2SrxNE",
        "outputId": "982e00a5-51ad-4974-baf3-3fc94f7579eb"
      },
      "execution_count": 5,
      "outputs": [
        {
          "output_type": "execute_result",
          "data": {
            "text/plain": [
              "'iris_tree.pdf'"
            ],
            "application/vnd.google.colaboratory.intrinsic+json": {
              "type": "string"
            }
          },
          "metadata": {},
          "execution_count": 5
        }
      ]
    },
    {
      "cell_type": "code",
      "source": [
        "# 21. Train Decision Tree with max_depth=3 and compare with full tree\n",
        "clf_shallow = DecisionTreeClassifier(max_depth=3)\n",
        "clf_shallow.fit(X_train, y_train)\n",
        "y_pred_shallow = clf_shallow.predict(X_test)\n",
        "\n",
        "print(\"Shallow Tree Accuracy:\", accuracy_score(y_test, y_pred_shallow))\n",
        "print(\"Full Tree Accuracy:\", accuracy_score(y_test, y_pred))\n"
      ],
      "metadata": {
        "colab": {
          "base_uri": "https://localhost:8080/"
        },
        "id": "W0RgLTynrxSh",
        "outputId": "bb53f42f-07d9-49e9-fb5c-8a5a9e740440"
      },
      "execution_count": 6,
      "outputs": [
        {
          "output_type": "stream",
          "name": "stdout",
          "text": [
            "Shallow Tree Accuracy: 1.0\n",
            "Full Tree Accuracy: 1.0\n"
          ]
        }
      ]
    },
    {
      "cell_type": "code",
      "source": [
        "# 22. Train Decision Tree with min_samples_split=5 and compare with default\n",
        "clf_split = DecisionTreeClassifier(min_samples_split=5)\n",
        "clf_split.fit(X_train, y_train)\n",
        "y_pred_split = clf_split.predict(X_test)\n",
        "\n",
        "print(\"min_samples_split=5 Accuracy:\", accuracy_score(y_test, y_pred_split))\n",
        "print(\"Default Tree Accuracy:\", accuracy_score(y_test, y_pred))\n"
      ],
      "metadata": {
        "colab": {
          "base_uri": "https://localhost:8080/"
        },
        "id": "sr3tRXvgrxVj",
        "outputId": "2ebdb452-36ae-41ea-dad9-d9270f71d043"
      },
      "execution_count": 7,
      "outputs": [
        {
          "output_type": "stream",
          "name": "stdout",
          "text": [
            "min_samples_split=5 Accuracy: 1.0\n",
            "Default Tree Accuracy: 1.0\n"
          ]
        }
      ]
    },
    {
      "cell_type": "code",
      "source": [
        "# 23. Apply feature scaling before training and compare accuracy\n",
        "from sklearn.preprocessing import StandardScaler\n",
        "\n",
        "scaler = StandardScaler()\n",
        "X_scaled = scaler.fit_transform(iris.data)\n",
        "X_train_scaled, X_test_scaled, y_train, y_test = train_test_split(X_scaled, iris.target, test_size=0.3, random_state=42)\n",
        "\n",
        "clf_scaled = DecisionTreeClassifier()\n",
        "clf_scaled.fit(X_train_scaled, y_train)\n",
        "y_pred_scaled = clf_scaled.predict(X_test_scaled)\n",
        "\n",
        "print(\"Accuracy with Scaling:\", accuracy_score(y_test, y_pred_scaled))\n"
      ],
      "metadata": {
        "colab": {
          "base_uri": "https://localhost:8080/"
        },
        "id": "fpjrS5mYrxYQ",
        "outputId": "9401d27d-2549-4cb4-a4eb-247214b6c96b"
      },
      "execution_count": 8,
      "outputs": [
        {
          "output_type": "stream",
          "name": "stdout",
          "text": [
            "Accuracy with Scaling: 1.0\n"
          ]
        }
      ]
    },
    {
      "cell_type": "code",
      "source": [
        "# 24. Train Decision Tree using One-vs-Rest (OVR) for multiclass\n",
        "from sklearn.multiclass import OneVsRestClassifier\n",
        "\n",
        "ovr_model = OneVsRestClassifier(DecisionTreeClassifier())\n",
        "ovr_model.fit(X_train, y_train)\n",
        "ovr_pred = ovr_model.predict(X_test)\n",
        "\n",
        "print(\"OVR Accuracy:\", accuracy_score(y_test, ovr_pred))\n"
      ],
      "metadata": {
        "colab": {
          "base_uri": "https://localhost:8080/"
        },
        "id": "t8GROfFFrxa7",
        "outputId": "3c586b66-6191-48a3-9c90-9947c83c8f52"
      },
      "execution_count": 9,
      "outputs": [
        {
          "output_type": "stream",
          "name": "stdout",
          "text": [
            "OVR Accuracy: 1.0\n"
          ]
        }
      ]
    },
    {
      "cell_type": "code",
      "source": [
        "# 25. Train Decision Tree and display feature importances\n",
        "clf = DecisionTreeClassifier()\n",
        "clf.fit(X_train, y_train)\n",
        "\n",
        "for name, importance in zip(iris.feature_names, clf.feature_importances_):\n",
        "    print(f\"{name}: {importance:.4f}\")\n"
      ],
      "metadata": {
        "colab": {
          "base_uri": "https://localhost:8080/"
        },
        "id": "azO0FZjUrxdj",
        "outputId": "f10f444f-7e8c-49a5-e733-b13eddc7e26a"
      },
      "execution_count": 10,
      "outputs": [
        {
          "output_type": "stream",
          "name": "stdout",
          "text": [
            "sepal length (cm): 0.0382\n",
            "sepal width (cm): 0.0000\n",
            "petal length (cm): 0.4045\n",
            "petal width (cm): 0.5573\n"
          ]
        }
      ]
    },
    {
      "cell_type": "code",
      "source": [
        "# 26. Train Regressor with max_depth=5 and compare with full tree\n",
        "reg_limited = DecisionTreeRegressor(max_depth=5)\n",
        "reg_limited.fit(Xh_train, yh_train)\n",
        "pred_limited = reg_limited.predict(Xh_test)\n",
        "\n",
        "print(\"MSE (max_depth=5):\", mean_squared_error(yh_test, pred_limited))\n",
        "print(\"MSE (Unrestricted):\", mean_squared_error(yh_test, yh_pred))\n"
      ],
      "metadata": {
        "colab": {
          "base_uri": "https://localhost:8080/"
        },
        "id": "Mi-hhbP_rxgh",
        "outputId": "08be7709-299d-4f74-8fd9-9f584cb61884"
      },
      "execution_count": 11,
      "outputs": [
        {
          "output_type": "stream",
          "name": "stdout",
          "text": [
            "MSE (max_depth=5): 0.5210801561811793\n",
            "MSE (Unrestricted): 0.5237738075041504\n"
          ]
        }
      ]
    },
    {
      "cell_type": "code",
      "source": [
        "# 27. Train classifier, apply Cost Complexity Pruning, visualize accuracy vs alpha\n",
        "path = clf.cost_complexity_pruning_path(X_train, y_train)\n",
        "ccp_alphas, impurities = path.ccp_alphas, path.impurities\n",
        "\n",
        "from sklearn.model_selection import cross_val_score\n",
        "import matplotlib.pyplot as plt\n",
        "\n",
        "accuracies = []\n",
        "for alpha in ccp_alphas:\n",
        "    clf_pruned = DecisionTreeClassifier(ccp_alpha=alpha)\n",
        "    scores = cross_val_score(clf_pruned, X_train, y_train, cv=5)\n",
        "    accuracies.append(scores.mean())\n",
        "\n",
        "plt.plot(ccp_alphas, accuracies, marker='o')\n",
        "plt.xlabel(\"ccp_alpha\")\n",
        "plt.ylabel(\"Accuracy\")\n",
        "plt.title(\"Cost Complexity Pruning\")\n",
        "plt.grid(True)\n",
        "plt.show()\n"
      ],
      "metadata": {
        "colab": {
          "base_uri": "https://localhost:8080/",
          "height": 472
        },
        "id": "bdsVcHkRrxkB",
        "outputId": "3affa9f5-c08d-4cec-a23a-97553446e5bc"
      },
      "execution_count": 12,
      "outputs": [
        {
          "output_type": "display_data",
          "data": {
            "text/plain": [
              "<Figure size 640x480 with 1 Axes>"
            ],
            "image/png": "[encoded data removed]"
          },
          "metadata": {}
        }
      ]
    },
    {
      "cell_type": "code",
      "source": [
        "# 28. Evaluate classifier using Precision, Recall, and F1-Score\n",
        "from sklearn.metrics import classification_report\n",
        "\n",
        "print(classification_report(y_test, y_pred))\n"
      ],
      "metadata": {
        "colab": {
          "base_uri": "https://localhost:8080/"
        },
        "id": "U7qqkPD2rxm7",
        "outputId": "7083ab1b-32a7-45d9-9430-28ffe7472ba1"
      },
      "execution_count": 13,
      "outputs": [
        {
          "output_type": "stream",
          "name": "stdout",
          "text": [
            "              precision    recall  f1-score   support\n",
            "\n",
            "           0       1.00      1.00      1.00        19\n",
            "           1       1.00      1.00      1.00        13\n",
            "           2       1.00      1.00      1.00        13\n",
            "\n",
            "    accuracy                           1.00        45\n",
            "   macro avg       1.00      1.00      1.00        45\n",
            "weighted avg       1.00      1.00      1.00        45\n",
            "\n"
          ]
        }
      ]
    },
    {
      "cell_type": "code",
      "source": [
        "# 29. Visualize confusion matrix using seaborn\n",
        "from sklearn.metrics import confusion_matrix\n",
        "import seaborn as sns\n",
        "import matplotlib.pyplot as plt\n",
        "\n",
        "cm = confusion_matrix(y_test, y_pred)\n",
        "sns.heatmap(cm, annot=True, fmt='d', cmap='Blues', xticklabels=iris.target_names, yticklabels=iris.target_names)\n",
        "plt.xlabel('Predicted')\n",
        "plt.ylabel('Actual')\n",
        "plt.title('Confusion Matrix')\n",
        "plt.show()\n"
      ],
      "metadata": {
        "colab": {
          "base_uri": "https://localhost:8080/",
          "height": 472
        },
        "id": "1ZzfuaN3rxp9",
        "outputId": "00a4e68b-5a33-4cf1-af34-2a1928d9527a"
      },
      "execution_count": 14,
      "outputs": [
        {
          "output_type": "display_data",
          "data": {
            "text/plain": [
              "<Figure size 640x480 with 2 Axes>"
            ],
            "image/png": "[encoded data removed]"
          },
          "metadata": {}
        }
      ]
    },
    {
      "cell_type": "code",
      "source": [
        "# 30. Use GridSearchCV to find best max_depth and min_samples_split\n",
        "from sklearn.model_selection import GridSearchCV\n",
        "\n",
        "param_grid = {\n",
        "    'max_depth': [2, 3, 4, 5, None],\n",
        "    'min_samples_split': [2, 5, 10]\n",
        "}\n",
        "grid_search = GridSearchCV(DecisionTreeClassifier(), param_grid, cv=5, scoring='accuracy')\n",
        "grid_search.fit(X_train, y_train)\n",
        "\n",
        "print(\"Best Parameters:\", grid_search.best_params_)\n",
        "print(\"Best Cross-Validation Accuracy:\", grid_search.best_score_)\n"
      ],
      "metadata": {
        "colab": {
          "base_uri": "https://localhost:8080/"
        },
        "id": "HNFgC1POrxt1",
        "outputId": "b8bdfd86-2a2a-4009-e0bf-d22f2244c405"
      },
      "execution_count": 15,
      "outputs": [
        {
          "output_type": "stream",
          "name": "stdout",
          "text": [
            "Best Parameters: {'max_depth': 4, 'min_samples_split': 10}\n",
            "Best Cross-Validation Accuracy: 0.9428571428571428\n"
          ]
        }
      ]
    }
  ]
}